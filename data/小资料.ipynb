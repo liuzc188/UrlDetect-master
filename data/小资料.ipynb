{
 "cells": [
  {
   "cell_type": "code",
   "execution_count": null,
   "metadata": {},
   "outputs": [],
   "source": []
  },
  {
   "cell_type": "code",
   "execution_count": 7,
   "metadata": {},
   "outputs": [
    {
     "data": {
      "text/plain": [
       "'C:\\\\Users\\\\Administrator\\\\Desktop\\\\0000139611\\\\url\\\\UrlDetect\\\\data'"
      ]
     },
     "execution_count": 7,
     "metadata": {},
     "output_type": "execute_result"
    }
   ],
   "source": [
    "import os\n",
    "os.getcwd()"
   ]
  },
  {
   "cell_type": "code",
   "execution_count": null,
   "metadata": {},
   "outputs": [],
   "source": [
    "f = open('good_fromE2.txt')"
   ]
  },
  {
   "cell_type": "code",
   "execution_count": 39,
   "metadata": {},
   "outputs": [
    {
     "name": "stdout",
     "output_type": "stream",
     "text": [
      "<class 'list'>\n",
      "<class 'list'>\n",
      "<class 'list'>\n",
      "<class 'list'>\n",
      "<class 'list'>\n",
      "<class 'list'>\n",
      "<class 'list'>\n",
      "<class 'list'>\n",
      "<class 'list'>\n",
      "<class 'list'>\n"
     ]
    }
   ],
   "source": [
    "with open('C:\\\\Users\\\\Administrator\\\\Desktop\\\\0000139611\\\\url\\\\UrlDetect\\\\data\\\\good_fromE2.txt') as f:\n",
    "#     f.readlines()\n",
    "#     good_query_list1 = [i.strip('\\n') for i in f.readlines()[:]]\n",
    "    for i in f.readlines()[:5]:\n",
    "        print(type(f.readlines()))\n",
    "        \n",
    "        l = i.strip('\\n')\n",
    "        print(type([l]))\n",
    "    \n",
    "    \n",
    "#     print(good_query_list1)"
   ]
  },
  {
   "cell_type": "code",
   "execution_count": 20,
   "metadata": {},
   "outputs": [
    {
     "ename": "AttributeError",
     "evalue": "'list' object has no attribute 'strip'",
     "output_type": "error",
     "traceback": [
      "\u001b[1;31m---------------------------------------------------------------------------\u001b[0m",
      "\u001b[1;31mAttributeError\u001b[0m                            Traceback (most recent call last)",
      "\u001b[1;32m<ipython-input-20-f9ee3d22c32f>\u001b[0m in \u001b[0;36m<module>\u001b[1;34m()\u001b[0m\n\u001b[0;32m      1\u001b[0m \u001b[1;32mwith\u001b[0m \u001b[0mopen\u001b[0m\u001b[1;33m(\u001b[0m\u001b[1;34m'../data/good_fromE2.txt'\u001b[0m\u001b[1;33m)\u001b[0m \u001b[1;32mas\u001b[0m \u001b[0mf\u001b[0m\u001b[1;33m:\u001b[0m\u001b[1;33m\u001b[0m\u001b[0m\n\u001b[0;32m      2\u001b[0m     \u001b[0mlines\u001b[0m \u001b[1;33m=\u001b[0m \u001b[0mf\u001b[0m\u001b[1;33m.\u001b[0m\u001b[0mreadlines\u001b[0m\u001b[1;33m(\u001b[0m\u001b[1;33m)\u001b[0m\u001b[1;33m[\u001b[0m\u001b[1;33m:\u001b[0m\u001b[1;33m]\u001b[0m\u001b[1;33m\u001b[0m\u001b[0m\n\u001b[1;32m----> 3\u001b[1;33m     \u001b[0mquery_list\u001b[0m \u001b[1;33m=\u001b[0m \u001b[0mlines\u001b[0m\u001b[1;33m.\u001b[0m\u001b[0mstrip\u001b[0m\u001b[1;33m(\u001b[0m\u001b[1;34m'\\n'\u001b[0m\u001b[1;33m)\u001b[0m\u001b[1;33m\u001b[0m\u001b[0m\n\u001b[0m\u001b[0;32m      4\u001b[0m \u001b[1;33m\u001b[0m\u001b[0m\n\u001b[0;32m      5\u001b[0m \u001b[1;33m\u001b[0m\u001b[0m\n",
      "\u001b[1;31mAttributeError\u001b[0m: 'list' object has no attribute 'strip'"
     ]
    }
   ],
   "source": [
    "with open('../data/good_fromE2.txt') as f:\n",
    "    lines = f.readlines()[:]\n",
    "    query_list = lines.strip('\\n')\n",
    "    \n",
    "    \n",
    "#     print(lines)\n",
    "    print()\n",
    "    \n",
    "#     line2 = f.readlines()[:]\n",
    "#     print(line2)\n",
    "#     good_query_list1 = [i.strip('\\n') for i in f.readlines()]"
   ]
  },
  {
   "cell_type": "code",
   "execution_count": 30,
   "metadata": {},
   "outputs": [
    {
     "name": "stdout",
     "output_type": "stream",
     "text": [
      "['\\n', '        I love you!\\n', '        I love myself!\\n', '        I love yourself!\\n', '       ']\n"
     ]
    }
   ],
   "source": [
    "#!/usr/bin/python3\n",
    "# Filename: establish_txt.py\n",
    "\n",
    "poem = '''\n",
    "        I love you!\n",
    "        I love myself!\n",
    "        I love yourself!\n",
    "       '''\n",
    "\n",
    "f = open('无用的.txt', 'w')\n",
    "f.write(poem)\n",
    "f.close()\n",
    "\n",
    "f = open('无用的.txt', 'r')\n",
    "while True:\n",
    "    line = f.readlines()\n",
    "    if len(line) == 0:\n",
    "        break;\n",
    "    print (line)\n",
    "f.close()\n",
    "\n",
    "# 输出的内容包含了’\\n’,’\\t’字符，那么我们要怎么消除？\n",
    "    \n",
    "# 既然f.readlines()返回的是列表，而strip是字符串的属性，不难想到只要我们将f.readlines()返回的列表转换成字符串就能用strip这个属性了。\n",
    "# 那么怎么将列表转为字符串呢？这里用的是字符串的join属性。\n",
    "\n",
    "# line ＝ ''.join(line)\n",
    "# 如此就将列表转换成字符串了。"
   ]
  },
  {
   "cell_type": "code",
   "execution_count": 29,
   "metadata": {},
   "outputs": [
    {
     "name": "stdout",
     "output_type": "stream",
     "text": [
      "        I love you!\n",
      "        I love myself!\n",
      "        I love yourself!\n",
      "       \n"
     ]
    }
   ],
   "source": [
    "#!/usr/bin/python3\n",
    "# Filename: establish_txt.py\n",
    "\n",
    "poem = '''\n",
    "        I love you!\n",
    "        I love myself!\n",
    "        I love yourself!\n",
    "       '''\n",
    "\n",
    "f = open('无用的.txt', 'w')\n",
    "f.write(poem)\n",
    "f.close()\n",
    "\n",
    "f = open('无用的.txt', 'r')\n",
    "while True:\n",
    "    line = f.readlines()\n",
    "    if len(line) == 0:\n",
    "        break; \n",
    "    line = ''.join(line).strip('\\n') \n",
    "    print (line)\n",
    "f.close()"
   ]
  },
  {
   "cell_type": "code",
   "execution_count": null,
   "metadata": {},
   "outputs": [],
   "source": []
  },
  {
   "cell_type": "code",
   "execution_count": 9,
   "metadata": {},
   "outputs": [
    {
     "data": {
      "text/plain": [
       "['',\n",
       " 'C:\\\\Users\\\\Administrator\\\\Anaconda3\\\\python36.zip',\n",
       " 'C:\\\\Users\\\\Administrator\\\\Anaconda3\\\\DLLs',\n",
       " 'C:\\\\Users\\\\Administrator\\\\Anaconda3\\\\lib',\n",
       " 'C:\\\\Users\\\\Administrator\\\\Anaconda3',\n",
       " 'C:\\\\Users\\\\Administrator\\\\Anaconda3\\\\lib\\\\site-packages',\n",
       " 'C:\\\\Users\\\\Administrator\\\\Anaconda3\\\\lib\\\\site-packages\\\\win32',\n",
       " 'C:\\\\Users\\\\Administrator\\\\Anaconda3\\\\lib\\\\site-packages\\\\win32\\\\lib',\n",
       " 'C:\\\\Users\\\\Administrator\\\\Anaconda3\\\\lib\\\\site-packages\\\\Pythonwin',\n",
       " 'C:\\\\Users\\\\Administrator\\\\Anaconda3\\\\lib\\\\site-packages\\\\IPython\\\\extensions',\n",
       " 'C:\\\\Users\\\\Administrator\\\\.ipython']"
      ]
     },
     "execution_count": 9,
     "metadata": {},
     "output_type": "execute_result"
    }
   ],
   "source": [
    "import sys\n",
    "sys.path"
   ]
  },
  {
   "cell_type": "code",
   "execution_count": null,
   "metadata": {},
   "outputs": [],
   "source": []
  }
 ],
 "metadata": {
  "kernelspec": {
   "display_name": "Python 3",
   "language": "python",
   "name": "python3"
  },
  "language_info": {
   "codemirror_mode": {
    "name": "ipython",
    "version": 3
   },
   "file_extension": ".py",
   "mimetype": "text/x-python",
   "name": "python",
   "nbconvert_exporter": "python",
   "pygments_lexer": "ipython3",
   "version": "3.6.4"
  }
 },
 "nbformat": 4,
 "nbformat_minor": 2
}
