{
 "cells": [
  {
   "cell_type": "code",
   "execution_count": null,
   "metadata": {},
   "outputs": [],
   "source": []
  },
  {
   "cell_type": "code",
   "execution_count": 8,
   "metadata": {},
   "outputs": [],
   "source": [
    "import IDS"
   ]
  },
  {
   "cell_type": "code",
   "execution_count": 9,
   "metadata": {},
   "outputs": [
    {
     "name": "stderr",
     "output_type": "stream",
     "text": [
      "C:\\Users\\Administrator\\Anaconda3\\lib\\site-packages\\sklearn\\base.py:311: UserWarning: Trying to unpickle estimator TfidfTransformer from version 0.18.2 when using version 0.19.1. This might lead to breaking code or invalid results. Use at your own risk.\n",
      "  UserWarning)\n",
      "C:\\Users\\Administrator\\Anaconda3\\lib\\site-packages\\sklearn\\base.py:311: UserWarning: Trying to unpickle estimator TfidfVectorizer from version 0.18.2 when using version 0.19.1. This might lead to breaking code or invalid results. Use at your own risk.\n",
      "  UserWarning)\n",
      "C:\\Users\\Administrator\\Anaconda3\\lib\\site-packages\\sklearn\\base.py:311: UserWarning: Trying to unpickle estimator SVC from version 0.18.2 when using version 0.19.1. This might lead to breaking code or invalid results. Use at your own risk.\n",
      "  UserWarning)\n"
     ]
    },
    {
     "name": "stdout",
     "output_type": "stream",
     "text": [
      "2018-05-29 15:58:14: loading SVM__n2_k80model success\n",
      "2018-05-29 15:58:14: start predict:\n",
      "2018-05-29 15:58:14: 将输入转换\n",
      "2018-05-29 15:58:15: 转换完成,开始预测\n",
      "2018-05-29 15:58:15: 预测完成,总数：8\n",
      "2018-05-29 15:58:15: good query: 2\n",
      "2018-05-29 15:58:15: bad query: 6\n",
      "正常结果 前10条 ['/skypearl/cn/skypearlgetprovince.action', '/skypearl/cn/styles/images/ui-bg_glass_75_dadada_1x400.png']\n"
     ]
    }
   ],
   "source": [
    "# In[7]:\n",
    "testfile1 = 'data/good_fromE2.txt'\n",
    "testfile2 = 'data/bad_fromE.txt'\n",
    "testfile = \"data/badqueries.txt\"\n",
    "# a = IDS.LG()\n",
    "\n",
    "a = IDS.SVM()\n",
    "\n",
    "predictlist = ['www.foo.com/id=1<script>alert(1)</script>','www.foo.com/name=admin\\' or 1=1',\\\n",
    "               'abc.com/admin.php','\"><svg onload=confirm(1)>','test/q=<a href=\"javascript:confirm(1)>','q=../etc/passwd',\\\n",
    "               '/skypearl/cn/skypearlgetprovince.action', '/skypearl/cn/styles/images/ui-bg_glass_75_dadada_1x400.png']\n",
    "result =a.predict(predictlist)\n",
    "print('正常结果 前10条 ' + str(result[0][:10]))"
   ]
  },
  {
   "cell_type": "code",
   "execution_count": null,
   "metadata": {},
   "outputs": [],
   "source": []
  },
  {
   "cell_type": "code",
   "execution_count": 2,
   "metadata": {},
   "outputs": [
    {
     "name": "stderr",
     "output_type": "stream",
     "text": [
      "C:\\Users\\Administrator\\Anaconda3\\lib\\site-packages\\sklearn\\base.py:311: UserWarning: Trying to unpickle estimator TfidfTransformer from version 0.18.2 when using version 0.19.1. This might lead to breaking code or invalid results. Use at your own risk.\n",
      "  UserWarning)\n",
      "C:\\Users\\Administrator\\Anaconda3\\lib\\site-packages\\sklearn\\base.py:311: UserWarning: Trying to unpickle estimator TfidfVectorizer from version 0.18.2 when using version 0.19.1. This might lead to breaking code or invalid results. Use at your own risk.\n",
      "  UserWarning)\n",
      "C:\\Users\\Administrator\\Anaconda3\\lib\\site-packages\\sklearn\\base.py:311: UserWarning: Trying to unpickle estimator SVC from version 0.18.2 when using version 0.19.1. This might lead to breaking code or invalid results. Use at your own risk.\n",
      "  UserWarning)\n"
     ]
    },
    {
     "name": "stdout",
     "output_type": "stream",
     "text": [
      "2018-05-29 14:26:48: loading SVM__n2_k80model success\n",
      "2018-05-29 14:26:48: start predict:\n",
      "2018-05-29 14:26:48: 将输入转换\n",
      "2018-05-29 14:26:49: 转换完成,开始预测\n",
      "2018-05-29 14:26:49: 预测完成,总数：8\n",
      "2018-05-29 14:26:49: good query: 2\n",
      "2018-05-29 14:26:49: bad query: 6\n",
      "正常结果 前10条 ['/skypearl/cn/skypearlgetprovince.action', '/skypearl/cn/styles/images/ui-bg_glass_75_dadada_1x400.png']\n"
     ]
    }
   ],
   "source": [
    "import IDS\n",
    "# In[7]:\n",
    "testfile1 = 'data/good_fromE2.txt'\n",
    "testfile2 = 'data/bad_fromE.txt'\n",
    "testfile = \"data/sampleurl.txt\"\n",
    "# a = IDS.LG()\n",
    "\n",
    "a = IDS.SVM()\n",
    "\n",
    "predictlist = ['www.foo.com/id=1<script>alert(1)</script>','www.foo.com/name=admin\\' or 1=1',\\\n",
    "               'abc.com/admin.php','\"><svg onload=confirm(1)>','test/q=<a href=\"javascript:confirm(1)>','q=../etc/passwd',\\\n",
    "               '/skypearl/cn/skypearlgetprovince.action', '/skypearl/cn/styles/images/ui-bg_glass_75_dadada_1x400.png']\n",
    "result =a.predict(predictlist)\n",
    "print('正常结果 前10条 ' + str(result[0][:10]))"
   ]
  },
  {
   "cell_type": "code",
   "execution_count": 3,
   "metadata": {},
   "outputs": [
    {
     "data": {
      "text/plain": [
       "dict"
      ]
     },
     "execution_count": 3,
     "metadata": {},
     "output_type": "execute_result"
    }
   ],
   "source": [
    "type(result)"
   ]
  },
  {
   "cell_type": "code",
   "execution_count": 4,
   "metadata": {},
   "outputs": [
    {
     "name": "stdout",
     "output_type": "stream",
     "text": [
      "预测数据集： data/sampleurl.txt\n",
      "2018-05-29 14:26:52: loading SVM__n2_k80model success\n",
      "2018-05-29 14:26:52: start predict:\n"
     ]
    },
    {
     "name": "stderr",
     "output_type": "stream",
     "text": [
      "C:\\Users\\Administrator\\Anaconda3\\lib\\site-packages\\sklearn\\base.py:311: UserWarning: Trying to unpickle estimator TfidfTransformer from version 0.18.2 when using version 0.19.1. This might lead to breaking code or invalid results. Use at your own risk.\n",
      "  UserWarning)\n",
      "C:\\Users\\Administrator\\Anaconda3\\lib\\site-packages\\sklearn\\base.py:311: UserWarning: Trying to unpickle estimator TfidfVectorizer from version 0.18.2 when using version 0.19.1. This might lead to breaking code or invalid results. Use at your own risk.\n",
      "  UserWarning)\n",
      "C:\\Users\\Administrator\\Anaconda3\\lib\\site-packages\\sklearn\\base.py:311: UserWarning: Trying to unpickle estimator SVC from version 0.18.2 when using version 0.19.1. This might lead to breaking code or invalid results. Use at your own risk.\n",
      "  UserWarning)\n"
     ]
    },
    {
     "name": "stdout",
     "output_type": "stream",
     "text": [
      "2018-05-29 14:26:53: 将输入转换\n",
      "2018-05-29 14:26:53: 转换完成,开始预测\n",
      "2018-05-29 14:26:53: 预测完成,总数：2003\n",
      "2018-05-29 14:26:53: good query: 2\n",
      "2018-05-29 14:26:53: bad query: 2001\n",
      "恶意结果 前10条['', '', 'aHR0cDovL2Nkbi5taWxld2ViLmNzLnN0ZWFtcG93ZXJlZC5jb20uODY4NmMuY29tL2RlcG90LzQ2MDkzOC9jaHVuay9kNTE5NzhiYThjMmRhMGQyNjNkNTUxNjg4MTc5YWFkZmMyYTAwZDcwPw==', 'aHR0cDovL3ZpZGVvLnVyZXBvcnQucHVzaC5xcS5jb20vdXJlcG9ydC9yZXBvcnRtaWlkPyZ0aGlyZHR5cGU9MiZhcHBpZD0xMDAxMiZndWlkPTM1OWNkMTY4N2Y3MTEwMzVhMGNkODBmYmQ0MmM4NTBhJnJlZ2lkPTA4NjE0OTgwMzgxNTcxMDcyMDAwMDAwOTM2MDBDTjAxJmFwcHZlcj01LjcuMC4xMjUxNSZpbWVpPTg2MTQ5ODAzODE1NzEwNyZpbXNpPTQ2MDAyODYxODIzODY1OCZvc3Zlcj02LjAmbmV3aHc9MQ==', 'aHR0cDovL3RyYWZmaWMyYml0Y29pbi5jb20vL3B0cC5waHA/cmVmPWNhbmRpZGUwMw==']\n",
      "正常结果 前10条 ['/skypearl/cn/skypearlgetprovince.action', '/skypearl/cn/styles/images/ui-bg_glass_75_dadada_1x400.png']\n"
     ]
    }
   ],
   "source": [
    "with open(testfile, 'r', encoding='latin1') as f:\n",
    "    print('预测数据集： '+testfile)\n",
    "    preicdtlist = [i.strip('\\n') for i in f.readlines()[:]]\n",
    "    result = a.predict(preicdtlist)\n",
    "    print('恶意结果 前10条'+str(result[1][:5]))\n",
    "    print('正常结果 前10条 ' + str(result[0][:10]))\n",
    "    pass"
   ]
  },
  {
   "cell_type": "code",
   "execution_count": null,
   "metadata": {},
   "outputs": [],
   "source": []
  },
  {
   "cell_type": "code",
   "execution_count": null,
   "metadata": {},
   "outputs": [],
   "source": []
  },
  {
   "cell_type": "code",
   "execution_count": null,
   "metadata": {},
   "outputs": [],
   "source": []
  },
  {
   "cell_type": "code",
   "execution_count": 5,
   "metadata": {},
   "outputs": [],
   "source": [
    "# import pickle\n",
    "\n",
    "\n",
    "# with open('data/url.pickle', 'rb+') as f:\n",
    "#     contact = pickle.load(f)\n",
    "# #     print(contact) \n",
    "\n",
    "# output = open('url2222.txt', 'w', encoding='utf-8')\n",
    "\n",
    "# pickle.dump(contact, output)\n",
    "\n",
    "\n",
    "# import pprint    也可以打印\n",
    "#     pprint.pprint(contact)"
   ]
  },
  {
   "cell_type": "code",
   "execution_count": 6,
   "metadata": {},
   "outputs": [
    {
     "data": {
      "text/plain": [
       "['a', 'b', 'c']"
      ]
     },
     "execution_count": 6,
     "metadata": {},
     "output_type": "execute_result"
    }
   ],
   "source": [
    "\n",
    "items =  [u'a', u'b', u'c']\n",
    "[x.encode('utf-8') for x in items]\n",
    "['a', 'b', 'c']"
   ]
  },
  {
   "cell_type": "code",
   "execution_count": null,
   "metadata": {},
   "outputs": [],
   "source": []
  },
  {
   "cell_type": "code",
   "execution_count": 7,
   "metadata": {
    "scrolled": false
   },
   "outputs": [
    {
     "name": "stdout",
     "output_type": "stream",
     "text": [
      "预测数据集： data/sampleurl.txt\n",
      "[b'/skypearl/cn/skypearlgetprovince.action\\r\\n']\n"
     ]
    }
   ],
   "source": [
    "with open(testfile, 'rb+') as f:\n",
    "    print('预测数据集： ' + testfile)\n",
    "    predictlist = [i for i in f.readlines()]\n",
    "#     predictlists = [x.encode('utf-8') for x in predictlist]\n",
    "    print(predictlist[:1])\n",
    "    \n",
    "#     result = a.predict(predictlist)\n",
    "#     predictneg = [x for x in result[1][:]]\n",
    "    \n",
    "#     print(predictneg[:10])\n",
    "#     print('恶意结果 前10条'+ str(predictneg[:3]))\n",
    "#     print('正常结果 前10条 ' + str(result[0][:2]))\n",
    "        \n",
    "    pass"
   ]
  },
  {
   "cell_type": "code",
   "execution_count": null,
   "metadata": {},
   "outputs": [],
   "source": []
  }
 ],
 "metadata": {
  "kernelspec": {
   "display_name": "Python 3",
   "language": "python",
   "name": "python3"
  },
  "language_info": {
   "codemirror_mode": {
    "name": "ipython",
    "version": 3
   },
   "file_extension": ".py",
   "mimetype": "text/x-python",
   "name": "python",
   "nbconvert_exporter": "python",
   "pygments_lexer": "ipython3",
   "version": "3.6.4"
  }
 },
 "nbformat": 4,
 "nbformat_minor": 2
}
