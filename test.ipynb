{
 "cells": [
  {
   "cell_type": "code",
   "execution_count": null,
   "metadata": {},
   "outputs": [],
   "source": []
  },
  {
   "cell_type": "code",
   "execution_count": 1,
   "metadata": {},
   "outputs": [
    {
     "name": "stderr",
     "output_type": "stream",
     "text": [
      "C:\\Users\\Administrator\\Anaconda3\\lib\\site-packages\\sklearn\\base.py:311: UserWarning: Trying to unpickle estimator TfidfTransformer from version 0.18.2 when using version 0.19.1. This might lead to breaking code or invalid results. Use at your own risk.\n",
      "  UserWarning)\n",
      "C:\\Users\\Administrator\\Anaconda3\\lib\\site-packages\\sklearn\\base.py:311: UserWarning: Trying to unpickle estimator TfidfVectorizer from version 0.18.2 when using version 0.19.1. This might lead to breaking code or invalid results. Use at your own risk.\n",
      "  UserWarning)\n",
      "C:\\Users\\Administrator\\Anaconda3\\lib\\site-packages\\sklearn\\base.py:311: UserWarning: Trying to unpickle estimator SVC from version 0.18.2 when using version 0.19.1. This might lead to breaking code or invalid results. Use at your own risk.\n",
      "  UserWarning)\n"
     ]
    },
    {
     "name": "stdout",
     "output_type": "stream",
     "text": [
      "2018-05-24 16:40:12: loading SVM__n2_k80model success\n",
      "2018-05-24 16:40:12: start predict:\n",
      "2018-05-24 16:40:12: 将输入转换\n",
      "2018-05-24 16:40:12: 转换完成,开始预测\n",
      "2018-05-24 16:40:12: 预测完成,总数：6\n",
      "2018-05-24 16:40:12: good query: 0\n",
      "2018-05-24 16:40:12: bad query: 6\n",
      "正常结果 前10条 []\n"
     ]
    }
   ],
   "source": [
    "import IDS\n",
    "# In[7]:\n",
    "testfile = 'data/good_fromE2.txt'\n",
    "testfile = 'data/bad_fromE.txt'\n",
    "testfile = \"data/badqueries.txt\"\n",
    "# a = IDS.LG()\n",
    "\n",
    "a = IDS.SVM()\n",
    "\n",
    "preicdtlist = ['www.foo.com/id=1<script>alert(1)</script>','www.foo.com/name=admin\\' or 1=1',\\\n",
    "               'abc.com/admin.php','\"><svg onload=confirm(1)>','test/q=<a href=\"javascript:confirm(1)>','q=../etc/passwd']\n",
    "result =a.predict(preicdtlist)\n",
    "print('正常结果 前10条 ' + str(result[0][:10]))"
   ]
  },
  {
   "cell_type": "code",
   "execution_count": 4,
   "metadata": {},
   "outputs": [
    {
     "name": "stdout",
     "output_type": "stream",
     "text": [
      "预测数据集： data/badqueries.txt\n",
      "2018-05-24 16:40:45: loading SVM__n2_k80model success\n",
      "2018-05-24 16:40:45: start predict:\n"
     ]
    },
    {
     "name": "stderr",
     "output_type": "stream",
     "text": [
      "C:\\Users\\Administrator\\Anaconda3\\lib\\site-packages\\sklearn\\base.py:311: UserWarning: Trying to unpickle estimator TfidfTransformer from version 0.18.2 when using version 0.19.1. This might lead to breaking code or invalid results. Use at your own risk.\n",
      "  UserWarning)\n",
      "C:\\Users\\Administrator\\Anaconda3\\lib\\site-packages\\sklearn\\base.py:311: UserWarning: Trying to unpickle estimator TfidfVectorizer from version 0.18.2 when using version 0.19.1. This might lead to breaking code or invalid results. Use at your own risk.\n",
      "  UserWarning)\n",
      "C:\\Users\\Administrator\\Anaconda3\\lib\\site-packages\\sklearn\\base.py:311: UserWarning: Trying to unpickle estimator SVC from version 0.18.2 when using version 0.19.1. This might lead to breaking code or invalid results. Use at your own risk.\n",
      "  UserWarning)\n"
     ]
    },
    {
     "name": "stdout",
     "output_type": "stream",
     "text": [
      "2018-05-24 16:40:47: 将输入转换\n",
      "2018-05-24 16:40:49: 转换完成,开始预测\n",
      "2018-05-24 16:40:52: 预测完成,总数：48126\n",
      "2018-05-24 16:40:52: good query: 3\n",
      "2018-05-24 16:40:52: bad query: 48123\n",
      "恶意结果 前10条[\"/top.php?stuff='uname >q36497765 #\", '/h21y8w52.nsf?<script>cross_site_scripting.nasl</script>', '/ca000001.pl?action=showcart&hop=\\\\\"><script>alert(\\'vulnerable\\')</script>&path=acatalog/', '/scripts/edit_image.php?dn=1&userfile=/etc/passwd&userfile_name= ;id; ', '/javascript/mta.exe', '/examples/jsp/colors/kernel/loadkernel.php?installpath=/etc/passwd\\\\x00', '/examples/jsp/cal/feedsplitter.php?format=../../../../../../../../../../etc/passwd\\\\x00&debug=1', '/phpwebfilemgr/index.php?f=../../../../../../../../../etc/passwd', '/cgi-bin/script/cat_for_gen.php?ad=1&ad_direct=../&m_for_racine=</option></select><?phpinfo();?>', '/examples/jsp/cal/search.php?allwords=<br><script>foo</script>&cid=0&title=1&desc=1']\n",
      "正常结果 前10条 [\"/cgi-bin/type.asp?itype='duware_itype_sql_injection.nasl\", \"/type.asp?itype='duware_itype_sql_injection.nasl\", '/cgi-perl/.passwd']\n"
     ]
    }
   ],
   "source": [
    "with open(testfile, 'r', encoding='latin1') as f:\n",
    "    print('预测数据集： '+testfile)\n",
    "    preicdtlist = [i.strip('\\n') for i in f.readlines()[:]]\n",
    "    result = a.predict(preicdtlist)\n",
    "    print('恶意结果 前10条'+str(result[1][:10]))\n",
    "    print('正常结果 前10条 ' + str(result[0][:10]))\n",
    "    pass"
   ]
  },
  {
   "cell_type": "code",
   "execution_count": null,
   "metadata": {},
   "outputs": [],
   "source": []
  },
  {
   "cell_type": "code",
   "execution_count": null,
   "metadata": {},
   "outputs": [],
   "source": []
  }
 ],
 "metadata": {
  "kernelspec": {
   "display_name": "Python 3",
   "language": "python",
   "name": "python3"
  },
  "language_info": {
   "codemirror_mode": {
    "name": "ipython",
    "version": 3
   },
   "file_extension": ".py",
   "mimetype": "text/x-python",
   "name": "python",
   "nbconvert_exporter": "python",
   "pygments_lexer": "ipython3",
   "version": "3.6.4"
  }
 },
 "nbformat": 4,
 "nbformat_minor": 2
}
